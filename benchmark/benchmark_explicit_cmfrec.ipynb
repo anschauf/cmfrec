{
 "cells": [
  {
   "cell_type": "code",
   "execution_count": 1,
   "metadata": {},
   "outputs": [],
   "source": [
    "### https://github.com/xianyi/OpenBLAS/issues/3237\n",
    "import os\n",
    "os.environ[\"OPENBLAS_NUM_THREADS\"] = \"1\"\n",
    "os.environ[\"OMP_NUM_THREADS\"] = \"1\""
   ]
  },
  {
   "cell_type": "code",
   "execution_count": 2,
   "metadata": {},
   "outputs": [],
   "source": [
    "import numpy as np, pandas as pd\n",
    "from scipy.sparse import coo_matrix\n",
    "from cmfrec import CMF\n",
    "\n",
    "df_full = pd.read_csv(\"ratings.dat\", delimiter=\"::\", engine=\"python\", header=None)\n",
    "df_train = pd.read_csv(\"train.csv\")\n",
    "df_test = pd.read_csv(\"test.csv\")\n",
    "\n",
    "df_full.columns = [\"UserId\", \"ItemId\", \"Rating\", \"Timestamp\"]\n",
    "df_full = df_full.drop(\"Timestamp\", axis=1)\n",
    "df_full[\"UserId\"], _ = pd.factorize(df_full[\"UserId\"])\n",
    "df_full[\"ItemId\"], _ = pd.factorize(df_full[\"ItemId\"])\n",
    "df_train[\"UserId\"], users_train = pd.factorize(df_train[\"UserId\"])\n",
    "df_train[\"ItemId\"], items_train = pd.factorize(df_train[\"ItemId\"])\n",
    "df_test[\"UserId\"] = pd.Categorical(df_test[\"UserId\"], users_train).codes\n",
    "df_test[\"ItemId\"] = pd.Categorical(df_test[\"ItemId\"], items_train).codes\n",
    "\n",
    "X_full = coo_matrix((df_full.Rating, (df_full.UserId, df_full.ItemId)))\n",
    "X_train = coo_matrix((df_train.Rating, (df_train.UserId, df_train.ItemId)))\n",
    "\n",
    "def convert_sp_dtypes(X):\n",
    "    X.row = X.row.astype(np.int32)\n",
    "    X.col = X.col.astype(np.int32)\n",
    "    X.data = X.data.astype(np.float64)\n",
    "    return X\n",
    "X_full = convert_sp_dtypes(X_full)\n",
    "X_train = convert_sp_dtypes(X_train)"
   ]
  },
  {
   "cell_type": "code",
   "execution_count": 3,
   "metadata": {},
   "outputs": [
    {
     "name": "stdout",
     "output_type": "stream",
     "text": [
      "13.70771 s ± 0 ns per loop (mean ± std. dev. of 1 run, 1 loop each)\n"
     ]
    },
    {
     "data": {
      "text/plain": [
       "<TimeitResult : 13.70771 s ± 0 ns per loop (mean ± std. dev. of 1 run, 1 loop each)>"
      ]
     },
     "execution_count": 3,
     "metadata": {},
     "output_type": "execute_result"
    }
   ],
   "source": [
    "%%timeit -r 1 -n 1 -p 7 -o\n",
    "### Variation 1: Conjugate Gradient method, with biases\n",
    "model = CMF(k=50, lambda_=0.05, scale_lam=True, niter=15,\n",
    "            use_cg=True, finalize_chol=False,\n",
    "            verbose=False, precompute_for_predictions=False)\n",
    "model.fit(X_full)"
   ]
  },
  {
   "cell_type": "code",
   "execution_count": 4,
   "metadata": {},
   "outputs": [
    {
     "name": "stdout",
     "output_type": "stream",
     "text": [
      "11.83269 s ± 0 ns per loop (mean ± std. dev. of 1 run, 1 loop each)\n"
     ]
    },
    {
     "data": {
      "text/plain": [
       "<TimeitResult : 11.83269 s ± 0 ns per loop (mean ± std. dev. of 1 run, 1 loop each)>"
      ]
     },
     "execution_count": 4,
     "metadata": {},
     "output_type": "execute_result"
    }
   ],
   "source": [
    "%%timeit -r 1 -n 1 -p 7 -o\n",
    "### Variation 2: Conjugate Gradient method, no biases\n",
    "model = CMF(k=50, lambda_=0.05, scale_lam=True, niter=15,\n",
    "            use_cg=True, finalize_chol=False,\n",
    "            user_bias=False, item_bias=False,\n",
    "            verbose=False, precompute_for_predictions=False)\n",
    "model.fit(X_full)"
   ]
  },
  {
   "cell_type": "code",
   "execution_count": 5,
   "metadata": {},
   "outputs": [
    {
     "name": "stdout",
     "output_type": "stream",
     "text": [
      "31.23867 s ± 0 ns per loop (mean ± std. dev. of 1 run, 1 loop each)\n"
     ]
    },
    {
     "data": {
      "text/plain": [
       "<TimeitResult : 31.23867 s ± 0 ns per loop (mean ± std. dev. of 1 run, 1 loop each)>"
      ]
     },
     "execution_count": 5,
     "metadata": {},
     "output_type": "execute_result"
    }
   ],
   "source": [
    "%%timeit -r 1 -n 1 -p 7 -o\n",
    "### Variation 3: Cholesky method, with biases\n",
    "model = CMF(k=50, lambda_=0.05, scale_lam=True, niter=15,\n",
    "            use_cg=False,\n",
    "            verbose=False, precompute_for_predictions=False)\n",
    "model.fit(X_full)"
   ]
  },
  {
   "cell_type": "code",
   "execution_count": 6,
   "metadata": {},
   "outputs": [
    {
     "name": "stdout",
     "output_type": "stream",
     "text": [
      "23.0416 s ± 0 ns per loop (mean ± std. dev. of 1 run, 1 loop each)\n"
     ]
    },
    {
     "data": {
      "text/plain": [
       "<TimeitResult : 23.0416 s ± 0 ns per loop (mean ± std. dev. of 1 run, 1 loop each)>"
      ]
     },
     "execution_count": 6,
     "metadata": {},
     "output_type": "execute_result"
    }
   ],
   "source": [
    "%%timeit -r 1 -n 1 -p 7 -o\n",
    "### Variation 4: CG method, with biases, and implicit features\n",
    "model = CMF(k=50, lambda_=0.05, scale_lam=True, niter=15,\n",
    "            use_cg=True, finalize_chol=False,\n",
    "            add_implicit_features=True,\n",
    "            verbose=False, precompute_for_predictions=False)\n",
    "model.fit(X_full)"
   ]
  },
  {
   "cell_type": "code",
   "execution_count": 7,
   "metadata": {},
   "outputs": [
    {
     "name": "stdout",
     "output_type": "stream",
     "text": [
      "38.13179 s ± 0 ns per loop (mean ± std. dev. of 1 run, 1 loop each)\n"
     ]
    },
    {
     "data": {
      "text/plain": [
       "<TimeitResult : 38.13179 s ± 0 ns per loop (mean ± std. dev. of 1 run, 1 loop each)>"
      ]
     },
     "execution_count": 7,
     "metadata": {},
     "output_type": "execute_result"
    }
   ],
   "source": [
    "%%timeit -r 1 -n 1 -p 7 -o\n",
    "### Variation 5: Cholesky method, with biases, and implicit features\n",
    "model = CMF(k=50, lambda_=0.05, scale_lam=True, niter=15,\n",
    "            use_cg=False,\n",
    "            add_implicit_features=True,\n",
    "            verbose=False, precompute_for_predictions=False)\n",
    "model.fit(X_full)"
   ]
  },
  {
   "cell_type": "code",
   "execution_count": 8,
   "metadata": {},
   "outputs": [],
   "source": [
    "def print_rmse(pred, real):\n",
    "    errors = pred - real\n",
    "    rmse = np.sqrt(np.mean(np.array(errors) ** 2))\n",
    "    print(\"RMSE: %f\" % rmse)"
   ]
  },
  {
   "cell_type": "code",
   "execution_count": 9,
   "metadata": {},
   "outputs": [
    {
     "name": "stdout",
     "output_type": "stream",
     "text": [
      "RMSE: 0.788233\n"
     ]
    }
   ],
   "source": [
    "### Variation 1: Conjugate Gradient method, with biases\n",
    "model = CMF(k=50, lambda_=0.05, scale_lam=True, niter=15,\n",
    "            use_cg=True, finalize_chol=False,\n",
    "            verbose=False, precompute_for_predictions=False)\n",
    "model.fit(X_train)\n",
    "pred = model.predict(df_test.UserId, df_test.ItemId)\n",
    "print_rmse(pred, df_test.Rating)"
   ]
  },
  {
   "cell_type": "code",
   "execution_count": 10,
   "metadata": {},
   "outputs": [
    {
     "name": "stdout",
     "output_type": "stream",
     "text": [
      "RMSE: 0.791481\n"
     ]
    }
   ],
   "source": [
    "### Variation 2: Conjugate Gradient method, no biases\n",
    "model = CMF(k=50, lambda_=0.05, scale_lam=True, niter=15,\n",
    "            use_cg=True, finalize_chol=False,\n",
    "            user_bias=False, item_bias=False,\n",
    "            verbose=False, precompute_for_predictions=False)\n",
    "model.fit(X_train)\n",
    "pred = model.predict(df_test.UserId, df_test.ItemId)\n",
    "print_rmse(pred, df_test.Rating)"
   ]
  },
  {
   "cell_type": "code",
   "execution_count": 11,
   "metadata": {},
   "outputs": [
    {
     "name": "stdout",
     "output_type": "stream",
     "text": [
      "RMSE: 0.786923\n"
     ]
    }
   ],
   "source": [
    "### Variation 3: Cholesky method, with biases\n",
    "model = CMF(k=50, lambda_=0.05, scale_lam=True, niter=15,\n",
    "            use_cg=False,\n",
    "            verbose=False, precompute_for_predictions=False)\n",
    "model.fit(X_train)\n",
    "pred = model.predict(df_test.UserId, df_test.ItemId)\n",
    "print_rmse(pred, df_test.Rating)"
   ]
  },
  {
   "cell_type": "code",
   "execution_count": 12,
   "metadata": {},
   "outputs": [
    {
     "name": "stdout",
     "output_type": "stream",
     "text": [
      "RMSE: 0.785427\n"
     ]
    }
   ],
   "source": [
    "### Variation 4: CG method, with biases, and implicit features\n",
    "model = CMF(k=50, lambda_=0.05, scale_lam=True, niter=15,\n",
    "            use_cg=True, finalize_chol=False,\n",
    "            add_implicit_features=True,\n",
    "            verbose=False, precompute_for_predictions=False)\n",
    "model.fit(X_train)\n",
    "pred = model.predict(df_test.UserId, df_test.ItemId)\n",
    "print_rmse(pred, df_test.Rating)"
   ]
  },
  {
   "cell_type": "code",
   "execution_count": 13,
   "metadata": {},
   "outputs": [
    {
     "name": "stdout",
     "output_type": "stream",
     "text": [
      "RMSE: 0.782414\n"
     ]
    }
   ],
   "source": [
    "### Variation 5: Cholesky method, with biases, and implicit features\n",
    "model = CMF(k=50, lambda_=0.05, scale_lam=True, niter=15,\n",
    "            use_cg=False,\n",
    "            add_implicit_features=True,\n",
    "            verbose=False, precompute_for_predictions=False)\n",
    "model.fit(X_train)\n",
    "pred = model.predict(df_test.UserId, df_test.ItemId)\n",
    "print_rmse(pred, df_test.Rating)"
   ]
  }
 ],
 "metadata": {
  "kernelspec": {
   "display_name": "Python (OpenBLAS)",
   "language": "python",
   "name": "py3"
  },
  "language_info": {
   "codemirror_mode": {
    "name": "ipython",
    "version": 3
   },
   "file_extension": ".py",
   "mimetype": "text/x-python",
   "name": "python",
   "nbconvert_exporter": "python",
   "pygments_lexer": "ipython3",
   "version": "3.7.9"
  }
 },
 "nbformat": 4,
 "nbformat_minor": 4
}
