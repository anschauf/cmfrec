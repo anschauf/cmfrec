{
 "cells": [
  {
   "cell_type": "code",
   "execution_count": 1,
   "metadata": {},
   "outputs": [],
   "source": [
    "import numpy as np, pandas as pd\n",
    "\n",
    "df_full = pd.read_csv(\"ratings.dat\", delimiter=\"::\", engine=\"python\", header=None)\n",
    "df_train = pd.read_csv(\"train.csv\")\n",
    "df_test = pd.read_csv(\"test.csv\")\n",
    "\n",
    "df_full.columns = [\"UserId\", \"ItemId\", \"Rating\", \"Timestamp\"]\n",
    "df_full = df_full.drop(\"Timestamp\", axis=1)\n",
    "df_full[\"UserId\"], _ = pd.factorize(df_full[\"UserId\"])\n",
    "df_full[\"ItemId\"], _ = pd.factorize(df_full[\"ItemId\"])\n",
    "df_train[\"UserId\"], users_train = pd.factorize(df_train[\"UserId\"])\n",
    "df_train[\"ItemId\"], items_train = pd.factorize(df_train[\"ItemId\"])\n",
    "df_test[\"UserId\"] = pd.Categorical(df_test[\"UserId\"], users_train).codes\n",
    "df_test[\"ItemId\"] = pd.Categorical(df_test[\"ItemId\"], items_train).codes"
   ]
  },
  {
   "cell_type": "code",
   "execution_count": 2,
   "metadata": {},
   "outputs": [],
   "source": [
    "from scipy.sparse import coo_matrix\n",
    "\n",
    "X_full = coo_matrix((df_full.Rating, (df_full.UserId, df_full.ItemId)))\n",
    "X_train = coo_matrix((df_train.Rating, (df_train.UserId, df_train.ItemId)))"
   ]
  },
  {
   "cell_type": "code",
   "execution_count": 3,
   "metadata": {},
   "outputs": [],
   "source": [
    "from cornac.data.dataset import Dataset\n",
    "from cornac.models.mf.recom_mf import MF\n",
    "\n",
    "def coo_to_cornac(X):\n",
    "    return Dataset(\n",
    "        X.shape[0], X.shape[1],\n",
    "        {i:i for i in range(X.shape[0])},\n",
    "        {i:i for i in range(X.shape[1])},\n",
    "        (X.row, X.col, X.data),\n",
    "        seed=1)\n",
    "\n",
    "dt_full = coo_to_cornac(X_full)\n",
    "dt_train = coo_to_cornac(X_train)"
   ]
  },
  {
   "cell_type": "code",
   "execution_count": 4,
   "metadata": {},
   "outputs": [
    {
     "name": "stdout",
     "output_type": "stream",
     "text": [
      "CPU times: user 13.9 s, sys: 7.68 ms, total: 13.9 s\n",
      "Wall time: 13.9 s\n"
     ]
    },
    {
     "data": {
      "text/plain": [
       "<cornac.models.mf.recom_mf.MF at 0x7f1e395992d0>"
      ]
     },
     "execution_count": 4,
     "metadata": {},
     "output_type": "execute_result"
    }
   ],
   "source": [
    "%%time\n",
    "model = MF(k=50, max_iter=15, lambda_reg=0.05,\n",
    "           use_bias=True, early_stop=False, verbose=False, seed=1)\n",
    "model.fit(dt_full)"
   ]
  },
  {
   "cell_type": "code",
   "execution_count": 5,
   "metadata": {},
   "outputs": [
    {
     "data": {
      "text/plain": [
       "<cornac.models.mf.recom_mf.MF at 0x7f1e2f947150>"
      ]
     },
     "execution_count": 5,
     "metadata": {},
     "output_type": "execute_result"
    }
   ],
   "source": [
    "model = MF(k=50, max_iter=15, lambda_reg=0.05,\n",
    "           use_bias=True, early_stop=False, verbose=False, seed=1)\n",
    "model.fit(dt_train)"
   ]
  },
  {
   "cell_type": "code",
   "execution_count": 6,
   "metadata": {},
   "outputs": [
    {
     "name": "stdout",
     "output_type": "stream",
     "text": [
      "RMSE: 0.816548\n"
     ]
    }
   ],
   "source": [
    "from cmfrec import CMF\n",
    "\n",
    "def cornac_to_cmf(model):\n",
    "    return CMF.from_model_matrices(\n",
    "        A=model.u_factors, B=model.i_factors,\n",
    "        glob_mean=model.global_mean,\n",
    "        user_bias=model.u_biases,\n",
    "        item_bias=model.i_biases,\n",
    "        precompute=False)\n",
    "\n",
    "def print_rmse(pred, real):\n",
    "    errors = pred - real\n",
    "    rmse = np.sqrt(np.mean(np.array(errors) ** 2))\n",
    "    print(\"RMSE: %f\" % rmse)\n",
    "    \n",
    "model_cmf = cornac_to_cmf(model)\n",
    "pred = model_cmf.predict(df_test.UserId, df_test.ItemId)\n",
    "print_rmse(pred, df_test.Rating)"
   ]
  }
 ],
 "metadata": {
  "kernelspec": {
   "display_name": "Python (OpenBLAS)",
   "language": "python",
   "name": "py3"
  },
  "language_info": {
   "codemirror_mode": {
    "name": "ipython",
    "version": 3
   },
   "file_extension": ".py",
   "mimetype": "text/x-python",
   "name": "python",
   "nbconvert_exporter": "python",
   "pygments_lexer": "ipython3",
   "version": "3.7.9"
  }
 },
 "nbformat": 4,
 "nbformat_minor": 4
}
