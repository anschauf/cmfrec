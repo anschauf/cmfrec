{
 "cells": [
  {
   "cell_type": "code",
   "execution_count": 1,
   "metadata": {},
   "outputs": [],
   "source": [
    "import numpy as np, pandas as pd\n",
    "\n",
    "df_full = pd.read_csv(\"ratings.dat\", delimiter=\"::\", engine=\"python\", header=None)\n",
    "df_train = pd.read_csv(\"train.csv\")\n",
    "df_test = pd.read_csv(\"test.csv\")\n",
    "\n",
    "df_full.columns = [\"UserId\", \"ItemId\", \"Rating\", \"Timestamp\"]\n",
    "df_full = df_full.drop(\"Timestamp\", axis=1)\n",
    "df_full[\"UserId\"], _ = pd.factorize(df_full[\"UserId\"])\n",
    "df_full[\"ItemId\"], _ = pd.factorize(df_full[\"ItemId\"])\n",
    "df_train[\"UserId\"], users_train = pd.factorize(df_train[\"UserId\"])\n",
    "df_train[\"ItemId\"], items_train = pd.factorize(df_train[\"ItemId\"])\n",
    "df_test[\"UserId\"] = pd.Categorical(df_test[\"UserId\"], users_train).codes\n",
    "df_test[\"ItemId\"] = pd.Categorical(df_test[\"ItemId\"], items_train).codes"
   ]
  },
  {
   "cell_type": "code",
   "execution_count": 2,
   "metadata": {},
   "outputs": [],
   "source": [
    "remap = {\"UserId\":\"user\", \"ItemId\":\"item\", \"Rating\":\"rating\"}\n",
    "df_full = df_full.rename(columns=remap)\n",
    "df_train = df_train.rename(columns=remap)\n",
    "df_test = df_test.rename(columns=remap)"
   ]
  },
  {
   "cell_type": "code",
   "execution_count": 3,
   "metadata": {},
   "outputs": [],
   "source": [
    "from lenskit.algorithms.svd import BiasedSVD\n",
    "from lenskit.algorithms.als import BiasedMF"
   ]
  },
  {
   "cell_type": "code",
   "execution_count": 4,
   "metadata": {},
   "outputs": [
    {
     "name": "stdout",
     "output_type": "stream",
     "text": [
      "CPU times: user 19.9 s, sys: 1.46 s, total: 21.4 s\n",
      "Wall time: 7.97 s\n"
     ]
    }
   ],
   "source": [
    "%%time\n",
    "model = BiasedSVD(50)\n",
    "model.fit(df_full)"
   ]
  },
  {
   "cell_type": "code",
   "execution_count": 5,
   "metadata": {},
   "outputs": [
    {
     "name": "stdout",
     "output_type": "stream",
     "text": [
      "CPU times: user 3min 53s, sys: 5min 11s, total: 9min 5s\n",
      "Wall time: 49.5 s\n"
     ]
    },
    {
     "data": {
      "text/plain": [
       "<lenskit.algorithms.als.BiasedMF at 0x7f246d962090>"
      ]
     },
     "execution_count": 5,
     "metadata": {},
     "output_type": "execute_result"
    }
   ],
   "source": [
    "%%time\n",
    "model = BiasedMF(50, iterations=15, reg=0.05,\n",
    "                 damping=5, bias=True, method='cd')\n",
    "model.fit(df_full)"
   ]
  },
  {
   "cell_type": "code",
   "execution_count": 6,
   "metadata": {},
   "outputs": [
    {
     "name": "stdout",
     "output_type": "stream",
     "text": [
      "CPU times: user 18min 46s, sys: 37min 5s, total: 55min 51s\n",
      "Wall time: 3min 42s\n"
     ]
    },
    {
     "data": {
      "text/plain": [
       "<lenskit.algorithms.als.BiasedMF at 0x7f2460ea1890>"
      ]
     },
     "execution_count": 6,
     "metadata": {},
     "output_type": "execute_result"
    }
   ],
   "source": [
    "%%time\n",
    "model = BiasedMF(50, iterations=15, reg=0.05,\n",
    "                 damping=5, bias=True, method='lu')\n",
    "model.fit(df_full)"
   ]
  },
  {
   "cell_type": "code",
   "execution_count": 7,
   "metadata": {},
   "outputs": [],
   "source": [
    "rating_test = df_test.rating\n",
    "df_test = df_test[[\"user\", \"item\"]]\n",
    "\n",
    "def print_rmse(pred, real):\n",
    "    errors = pred - real\n",
    "    rmse = np.sqrt(np.mean(np.array(errors) ** 2))\n",
    "    print(\"RMSE: %f\" % rmse)"
   ]
  },
  {
   "cell_type": "code",
   "execution_count": 8,
   "metadata": {},
   "outputs": [
    {
     "name": "stdout",
     "output_type": "stream",
     "text": [
      "RMSE: 0.838297\n"
     ]
    }
   ],
   "source": [
    "model = BiasedSVD(50)\n",
    "model.fit(df_train)\n",
    "pred = model.predict(df_test)\n",
    "print_rmse(pred, rating_test)"
   ]
  },
  {
   "cell_type": "code",
   "execution_count": 9,
   "metadata": {},
   "outputs": [
    {
     "name": "stdout",
     "output_type": "stream",
     "text": [
      "RMSE: 0.796156\n"
     ]
    }
   ],
   "source": [
    "model = BiasedMF(50, iterations=15, reg=0.05,\n",
    "                 damping=5, bias=True, method='cd')\n",
    "model.fit(df_train)\n",
    "pred = model.predict(df_test)\n",
    "print_rmse(pred, rating_test)"
   ]
  },
  {
   "cell_type": "code",
   "execution_count": 10,
   "metadata": {},
   "outputs": [
    {
     "name": "stdout",
     "output_type": "stream",
     "text": [
      "RMSE: 0.796129\n"
     ]
    }
   ],
   "source": [
    "model = BiasedMF(50, iterations=15, reg=0.05,\n",
    "                 damping=5, bias=True, method='lu')\n",
    "model.fit(df_train)\n",
    "pred = model.predict(df_test)\n",
    "print_rmse(pred, rating_test)"
   ]
  }
 ],
 "metadata": {
  "kernelspec": {
   "display_name": "Python 3",
   "language": "python",
   "name": "python3"
  },
  "language_info": {
   "codemirror_mode": {
    "name": "ipython",
    "version": 3
   },
   "file_extension": ".py",
   "mimetype": "text/x-python",
   "name": "python",
   "nbconvert_exporter": "python",
   "pygments_lexer": "ipython3",
   "version": "3.7.7"
  }
 },
 "nbformat": 4,
 "nbformat_minor": 4
}
