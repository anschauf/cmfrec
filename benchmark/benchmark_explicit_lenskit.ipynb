{
 "cells": [
  {
   "cell_type": "code",
   "execution_count": 1,
   "metadata": {},
   "outputs": [],
   "source": [
    "import numpy as np, pandas as pd\n",
    "\n",
    "df_full = pd.read_csv(\"ratings.dat\", delimiter=\"::\", engine=\"python\", header=None)\n",
    "df_train = pd.read_csv(\"train.csv\")\n",
    "df_test = pd.read_csv(\"test.csv\")\n",
    "\n",
    "df_full.columns = [\"UserId\", \"ItemId\", \"Rating\", \"Timestamp\"]\n",
    "df_full = df_full.drop(\"Timestamp\", axis=1)\n",
    "df_full[\"UserId\"], _ = pd.factorize(df_full[\"UserId\"])\n",
    "df_full[\"ItemId\"], _ = pd.factorize(df_full[\"ItemId\"])\n",
    "df_train[\"UserId\"], users_train = pd.factorize(df_train[\"UserId\"])\n",
    "df_train[\"ItemId\"], items_train = pd.factorize(df_train[\"ItemId\"])\n",
    "df_test[\"UserId\"] = pd.Categorical(df_test[\"UserId\"], users_train).codes\n",
    "df_test[\"ItemId\"] = pd.Categorical(df_test[\"ItemId\"], items_train).codes"
   ]
  },
  {
   "cell_type": "code",
   "execution_count": 2,
   "metadata": {},
   "outputs": [],
   "source": [
    "remap = {\"UserId\":\"user\", \"ItemId\":\"item\", \"Rating\":\"rating\"}\n",
    "df_full = df_full.rename(columns=remap)\n",
    "df_train = df_train.rename(columns=remap)\n",
    "df_test = df_test.rename(columns=remap)"
   ]
  },
  {
   "cell_type": "code",
   "execution_count": 3,
   "metadata": {},
   "outputs": [],
   "source": [
    "from lenskit.algorithms.svd import BiasedSVD\n",
    "from lenskit.algorithms.als import BiasedMF\n",
    "from threadpoolctl import threadpool_limits"
   ]
  },
  {
   "cell_type": "code",
   "execution_count": 4,
   "metadata": {},
   "outputs": [
    {
     "name": "stdout",
     "output_type": "stream",
     "text": [
      "CPU times: user 14.1 s, sys: 14.8 s, total: 29 s\n",
      "Wall time: 8.88 s\n"
     ]
    }
   ],
   "source": [
    "%%time\n",
    "model = BiasedSVD(50)\n",
    "model.fit(df_full)"
   ]
  },
  {
   "cell_type": "code",
   "execution_count": 5,
   "metadata": {},
   "outputs": [
    {
     "name": "stdout",
     "output_type": "stream",
     "text": [
      "CPU times: user 1min 31s, sys: 1.74 s, total: 1min 33s\n",
      "Wall time: 26.8 s\n"
     ]
    }
   ],
   "source": [
    "%%time\n",
    "model = BiasedMF(50, iterations=15, reg=0.05,\n",
    "                 rng_spec=np.random.RandomState(seed=1),\n",
    "                 damping=5, bias=True, method='cd')\n",
    "with threadpool_limits(limits=1, user_api='blas'):\n",
    "    model.fit(df_full)"
   ]
  },
  {
   "cell_type": "code",
   "execution_count": 6,
   "metadata": {},
   "outputs": [
    {
     "name": "stdout",
     "output_type": "stream",
     "text": [
      "CPU times: user 3min 15s, sys: 4.08 s, total: 3min 19s\n",
      "Wall time: 37.6 s\n"
     ]
    }
   ],
   "source": [
    "%%time\n",
    "model = BiasedMF(50, iterations=15, reg=0.05,\n",
    "                 rng_spec=np.random.RandomState(seed=1),\n",
    "                 damping=5, bias=True, method='lu')\n",
    "with threadpool_limits(limits=1, user_api='blas'):\n",
    "    model.fit(df_full)"
   ]
  },
  {
   "cell_type": "code",
   "execution_count": 7,
   "metadata": {},
   "outputs": [],
   "source": [
    "rating_test = df_test.rating\n",
    "df_test = df_test[[\"user\", \"item\"]]\n",
    "\n",
    "def print_rmse(pred, real):\n",
    "    errors = pred - real\n",
    "    rmse = np.sqrt(np.mean(np.array(errors) ** 2))\n",
    "    print(\"RMSE: %f\" % rmse)"
   ]
  },
  {
   "cell_type": "code",
   "execution_count": 8,
   "metadata": {},
   "outputs": [
    {
     "name": "stdout",
     "output_type": "stream",
     "text": [
      "RMSE: 0.838194\n"
     ]
    }
   ],
   "source": [
    "model = BiasedSVD(50)\n",
    "model.fit(df_train)\n",
    "pred = model.predict(df_test)\n",
    "print_rmse(pred, rating_test)"
   ]
  },
  {
   "cell_type": "code",
   "execution_count": 9,
   "metadata": {},
   "outputs": [
    {
     "name": "stdout",
     "output_type": "stream",
     "text": [
      "RMSE: 0.796050\n"
     ]
    }
   ],
   "source": [
    "model = BiasedMF(50, iterations=15, reg=0.05,\n",
    "                 rng_spec=np.random.RandomState(seed=1),\n",
    "                 damping=5, bias=True, method='cd')\n",
    "with threadpool_limits(limits=1, user_api='blas'):\n",
    "    model.fit(df_train)\n",
    "pred = model.predict(df_test)\n",
    "print_rmse(pred, rating_test)"
   ]
  },
  {
   "cell_type": "code",
   "execution_count": 10,
   "metadata": {},
   "outputs": [
    {
     "name": "stdout",
     "output_type": "stream",
     "text": [
      "RMSE: 0.796044\n"
     ]
    }
   ],
   "source": [
    "model = BiasedMF(50, iterations=15, reg=0.05,\n",
    "                 rng_spec=np.random.RandomState(seed=1),\n",
    "                 damping=5, bias=True, method='lu')\n",
    "with threadpool_limits(limits=1, user_api='blas'):\n",
    "    model.fit(df_train)\n",
    "pred = model.predict(df_test)\n",
    "print_rmse(pred, rating_test)"
   ]
  }
 ],
 "metadata": {
  "kernelspec": {
   "display_name": "Python (OpenBLAS)",
   "language": "python",
   "name": "py3"
  },
  "language_info": {
   "codemirror_mode": {
    "name": "ipython",
    "version": 3
   },
   "file_extension": ".py",
   "mimetype": "text/x-python",
   "name": "python",
   "nbconvert_exporter": "python",
   "pygments_lexer": "ipython3",
   "version": "3.7.9"
  }
 },
 "nbformat": 4,
 "nbformat_minor": 4
}
