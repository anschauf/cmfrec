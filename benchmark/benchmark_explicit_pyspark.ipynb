{
 "cells": [
  {
   "cell_type": "code",
   "execution_count": 1,
   "metadata": {},
   "outputs": [
    {
     "name": "stdout",
     "output_type": "stream",
     "text": [
      "(10000054, 3)\n",
      "(8000043, 3)\n",
      "(1999975, 3)\n"
     ]
    }
   ],
   "source": [
    "import numpy as np, pandas as pd\n",
    "\n",
    "df_full = pd.read_csv(\"ratings.dat\", delimiter=\"::\", engine=\"python\", header=None)\n",
    "df_train = pd.read_csv(\"train.csv\")\n",
    "df_test = pd.read_csv(\"test.csv\")\n",
    "\n",
    "df_full.columns = [\"UserId\", \"ItemId\", \"Rating\", \"Timestamp\"]\n",
    "df_full = df_full.drop(\"Timestamp\", axis=1)\n",
    "df_full[\"UserId\"], _ = pd.factorize(df_full[\"UserId\"])\n",
    "df_full[\"ItemId\"], _ = pd.factorize(df_full[\"ItemId\"])\n",
    "df_train[\"UserId\"], users_train = pd.factorize(df_train[\"UserId\"])\n",
    "df_train[\"ItemId\"], items_train = pd.factorize(df_train[\"ItemId\"])\n",
    "df_test[\"UserId\"] = pd.Categorical(df_test[\"UserId\"], users_train).codes\n",
    "df_test[\"ItemId\"] = pd.Categorical(df_test[\"ItemId\"], items_train).codes\n",
    "\n",
    "### Spark does not perform mean centering, so it has to be done manually\n",
    "df_full[\"Rating\"] -= df_full[\"Rating\"].mean()\n",
    "train_mean = df_train[\"Rating\"].mean()\n",
    "df_train[\"Rating\"] -= train_mean\n",
    "df_test[\"Rating\"] -= train_mean\n",
    "\n",
    "print(df_full.shape)\n",
    "print(df_train.shape)\n",
    "print(df_test.shape)"
   ]
  },
  {
   "cell_type": "code",
   "execution_count": 2,
   "metadata": {},
   "outputs": [],
   "source": [
    "import findspark ### https://github.com/minrk/findspark\n",
    "findspark.init('spark-3.1.1-bin-hadoop2.7/')\n",
    "\n",
    "import pyspark\n",
    "from pyspark.sql import SparkSession\n",
    "from pyspark.ml.recommendation import ALS\n",
    "\n",
    "spark = (\n",
    "    SparkSession\n",
    "        .builder\n",
    "        .config(\"spark.driver.memory\", \"8g\")\n",
    "        .getOrCreate()\n",
    ")\n",
    "spark.conf.set(\"spark.sql.execution.arrow.enabled\", \"true\")"
   ]
  },
  {
   "cell_type": "code",
   "execution_count": 3,
   "metadata": {},
   "outputs": [],
   "source": [
    "df_full_spark = spark.createDataFrame(df_full)\n",
    "df_train_spark = spark.createDataFrame(df_train)\n",
    "df_test_spark = spark.createDataFrame(df_test)\n",
    "\n",
    "als = ALS(rank=50, seed=1, maxIter=15, regParam=0.05,\n",
    "          userCol='UserId', itemCol='ItemId', ratingCol='Rating',\n",
    "          checkpointInterval=20)"
   ]
  },
  {
   "cell_type": "code",
   "execution_count": 4,
   "metadata": {},
   "outputs": [],
   "source": [
    "import os\n",
    "os.environ['PYSPARK_SUBMIT_ARGS'] = '--packages org.apache.spark:spark-sql-kafka-0-10_2.11:2.3.0 pyspark-shell'"
   ]
  },
  {
   "cell_type": "code",
   "execution_count": 5,
   "metadata": {},
   "outputs": [
    {
     "name": "stdout",
     "output_type": "stream",
     "text": [
      "CPU times: user 15.1 ms, sys: 4.44 ms, total: 19.6 ms\n",
      "Wall time: 1min 21s\n"
     ]
    }
   ],
   "source": [
    "%%time\n",
    "model = als.fit(df_full_spark)"
   ]
  },
  {
   "cell_type": "code",
   "execution_count": 6,
   "metadata": {},
   "outputs": [
    {
     "name": "stdout",
     "output_type": "stream",
     "text": [
      "RMSE: 0.791316\n"
     ]
    }
   ],
   "source": [
    "def print_rmse(errors):\n",
    "    rmse = np.sqrt(np.mean(np.array(errors) ** 2))\n",
    "    print(\"RMSE: %f\" % rmse)\n",
    "\n",
    "model = als.fit(df_train_spark)\n",
    "errors = (\n",
    "    model\n",
    "        .transform(df_test_spark)\n",
    "        .rdd\n",
    "        .map(lambda x: x.Rating - x.prediction)\n",
    "        .collect()\n",
    ")\n",
    "print_rmse(errors)"
   ]
  }
 ],
 "metadata": {
  "kernelspec": {
   "display_name": "Python 3",
   "language": "python",
   "name": "python3"
  },
  "language_info": {
   "codemirror_mode": {
    "name": "ipython",
    "version": 3
   },
   "file_extension": ".py",
   "mimetype": "text/x-python",
   "name": "python",
   "nbconvert_exporter": "python",
   "pygments_lexer": "ipython3",
   "version": "3.7.7"
  }
 },
 "nbformat": 4,
 "nbformat_minor": 4
}
