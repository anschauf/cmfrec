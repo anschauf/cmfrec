{
 "cells": [
  {
   "cell_type": "code",
   "execution_count": 1,
   "metadata": {},
   "outputs": [],
   "source": [
    "import numpy as np, pandas as pd\n",
    "\n",
    "df_full = pd.read_csv(\"ratings.dat\", delimiter=\"::\", engine=\"python\", header=None)\n",
    "df_train = pd.read_csv(\"train.csv\")\n",
    "df_test = pd.read_csv(\"test.csv\")\n",
    "\n",
    "df_full.columns = [\"UserId\", \"ItemId\", \"Rating\", \"Timestamp\"]\n",
    "df_full = df_full.drop(\"Timestamp\", axis=1)\n",
    "df_full[\"UserId\"], _ = pd.factorize(df_full[\"UserId\"])\n",
    "df_full[\"ItemId\"], _ = pd.factorize(df_full[\"ItemId\"])\n",
    "df_train[\"UserId\"], users_train = pd.factorize(df_train[\"UserId\"])\n",
    "df_train[\"ItemId\"], items_train = pd.factorize(df_train[\"ItemId\"])\n",
    "df_test[\"UserId\"] = pd.Categorical(df_test[\"UserId\"], users_train).codes\n",
    "df_test[\"ItemId\"] = pd.Categorical(df_test[\"ItemId\"], items_train).codes\n",
    "\n",
    "### Spotlight does not perform mean centering, so it has to be done manually\n",
    "df_full[\"Rating\"] -= df_full[\"Rating\"].mean()\n",
    "train_mean = df_train[\"Rating\"].mean()\n",
    "df_train[\"Rating\"] -= train_mean\n",
    "df_test[\"Rating\"] -= train_mean"
   ]
  },
  {
   "cell_type": "code",
   "execution_count": 2,
   "metadata": {},
   "outputs": [],
   "source": [
    "from spotlight.interactions import Interactions\n",
    "from spotlight.factorization.explicit import ExplicitFactorizationModel\n",
    "\n",
    "dt_full = Interactions(df_full.UserId.to_numpy().astype(np.int32),\n",
    "                       df_full.ItemId.to_numpy().astype(np.int32),\n",
    "                       df_full.Rating.to_numpy().astype(np.float32))\n",
    "dt_train = Interactions(df_train.UserId.to_numpy().astype(np.int32),\n",
    "                        df_train.ItemId.to_numpy().astype(np.int32),\n",
    "                        df_train.Rating.to_numpy().astype(np.float32))"
   ]
  },
  {
   "cell_type": "code",
   "execution_count": 3,
   "metadata": {},
   "outputs": [
    {
     "name": "stderr",
     "output_type": "stream",
     "text": [
      "/home/david/anaconda3/lib/python3.7/site-packages/torch/autograd/__init__.py:132: UserWarning: CUDA initialization: Found no NVIDIA driver on your system. Please check that you have an NVIDIA GPU and installed a driver from http://www.nvidia.com/Download/index.aspx (Triggered internally at  /pytorch/c10/cuda/CUDAFunctions.cpp:100.)\n",
      "  allow_unreachable=True)  # allow_unreachable flag\n"
     ]
    },
    {
     "name": "stdout",
     "output_type": "stream",
     "text": [
      "CPU times: user 1d 2h 31min 41s, sys: 26min 5s, total: 1d 2h 57min 47s\n",
      "Wall time: 3h 22min 21s\n"
     ]
    }
   ],
   "source": [
    "%%time\n",
    "model = ExplicitFactorizationModel(\n",
    "    loss='regression', embedding_dim=50, n_iter=15,\n",
    "    l2=0.05, use_cuda=False, random_state=np.random.RandomState(seed=1)\n",
    ")\n",
    "model.fit(dt_full)"
   ]
  },
  {
   "cell_type": "code",
   "execution_count": 4,
   "metadata": {},
   "outputs": [],
   "source": [
    "model = ExplicitFactorizationModel(\n",
    "    loss='regression', embedding_dim=50, n_iter=15,\n",
    "    l2=0.05, use_cuda=False, random_state=np.random.RandomState(seed=1)\n",
    ")\n",
    "model.fit(dt_train)"
   ]
  },
  {
   "cell_type": "code",
   "execution_count": 5,
   "metadata": {},
   "outputs": [
    {
     "name": "stdout",
     "output_type": "stream",
     "text": [
      "RMSE: 1.054698\n"
     ]
    }
   ],
   "source": [
    "def print_rmse(pred, real):\n",
    "    errors = pred - real\n",
    "    rmse = np.sqrt(np.mean(np.array(errors) ** 2))\n",
    "    print(\"RMSE: %f\" % rmse)\n",
    "\n",
    "pred = model.predict(df_test.UserId.to_numpy().astype(np.int32),\n",
    "                     df_test.ItemId.to_numpy().astype(np.int32))\n",
    "print_rmse(pred, df_test.Rating)"
   ]
  }
 ],
 "metadata": {
  "kernelspec": {
   "display_name": "Python 3",
   "language": "python",
   "name": "python3"
  },
  "language_info": {
   "codemirror_mode": {
    "name": "ipython",
    "version": 3
   },
   "file_extension": ".py",
   "mimetype": "text/x-python",
   "name": "python",
   "nbconvert_exporter": "python",
   "pygments_lexer": "ipython3",
   "version": "3.7.7"
  }
 },
 "nbformat": 4,
 "nbformat_minor": 4
}
