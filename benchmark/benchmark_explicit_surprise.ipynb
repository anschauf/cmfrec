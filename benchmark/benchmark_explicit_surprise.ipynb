{
 "cells": [
  {
   "cell_type": "code",
   "execution_count": 1,
   "metadata": {},
   "outputs": [],
   "source": [
    "import numpy as np, pandas as pd\n",
    "\n",
    "df_full = pd.read_csv(\"ratings.dat\", delimiter=\"::\", engine=\"python\", header=None)\n",
    "df_train = pd.read_csv(\"train.csv\")\n",
    "df_test = pd.read_csv(\"test.csv\")\n",
    "\n",
    "df_full.columns = [\"UserId\", \"ItemId\", \"Rating\", \"Timestamp\"]\n",
    "df_full = df_full.drop(\"Timestamp\", axis=1)\n",
    "df_full[\"UserId\"], _ = pd.factorize(df_full[\"UserId\"])\n",
    "df_full[\"ItemId\"], _ = pd.factorize(df_full[\"ItemId\"])\n",
    "df_train[\"UserId\"], users_train = pd.factorize(df_train[\"UserId\"])\n",
    "df_train[\"ItemId\"], items_train = pd.factorize(df_train[\"ItemId\"])\n",
    "df_test[\"UserId\"] = pd.Categorical(df_test[\"UserId\"], users_train).codes\n",
    "df_test[\"ItemId\"] = pd.Categorical(df_test[\"ItemId\"], items_train).codes"
   ]
  },
  {
   "cell_type": "code",
   "execution_count": 2,
   "metadata": {},
   "outputs": [],
   "source": [
    "from surprise.dataset import Dataset\n",
    "from surprise import Reader\n",
    "from surprise.prediction_algorithms.matrix_factorization import SVD\n",
    "\n",
    "reader = Reader(rating_scale=(1, 5))\n",
    "dt_full = Dataset.load_from_df(df_full, reader).build_full_trainset()\n",
    "dt_train = Dataset.load_from_df(df_train, reader).build_full_trainset()"
   ]
  },
  {
   "cell_type": "code",
   "execution_count": 3,
   "metadata": {},
   "outputs": [
    {
     "name": "stdout",
     "output_type": "stream",
     "text": [
      "CPU times: user 2min 58s, sys: 99.6 ms, total: 2min 58s\n",
      "Wall time: 2min 58s\n"
     ]
    },
    {
     "data": {
      "text/plain": [
       "<surprise.prediction_algorithms.matrix_factorization.SVD at 0x7f323de48850>"
      ]
     },
     "execution_count": 3,
     "metadata": {},
     "output_type": "execute_result"
    }
   ],
   "source": [
    "%%time\n",
    "model = SVD(n_factors=50, n_epochs=15, biased=True, reg_all=0.05,\n",
    "            random_state=1, verbose=False)\n",
    "model.fit(dt_full)"
   ]
  },
  {
   "cell_type": "code",
   "execution_count": 4,
   "metadata": {},
   "outputs": [
    {
     "data": {
      "text/plain": [
       "<surprise.prediction_algorithms.matrix_factorization.SVD at 0x7f32a63db790>"
      ]
     },
     "execution_count": 4,
     "metadata": {},
     "output_type": "execute_result"
    }
   ],
   "source": [
    "model = SVD(n_factors=50, n_epochs=15, biased=True, reg_all=0.05,\n",
    "            random_state=1, verbose=False)\n",
    "model.fit(dt_train)"
   ]
  },
  {
   "cell_type": "code",
   "execution_count": 5,
   "metadata": {},
   "outputs": [
    {
     "name": "stdout",
     "output_type": "stream",
     "text": [
      "RMSE: 1.060049\n"
     ]
    }
   ],
   "source": [
    "def predict_from_model(model, df):\n",
    "    pred = np.empty(df.shape[0])\n",
    "    uid = df.UserId.astype(str)\n",
    "    iid = df.ItemId.astype(str)\n",
    "    for ix in range(df.shape[0]):\n",
    "        pred[ix] = model.predict(uid.iloc[ix], iid.iloc[ix]).est\n",
    "    return pred\n",
    "\n",
    "def print_rmse(pred, real):\n",
    "    errors = pred - real\n",
    "    rmse = np.sqrt(np.mean(np.array(errors) ** 2))\n",
    "    print(\"RMSE: %f\" % rmse)\n",
    "\n",
    "pred = predict_from_model(model, df_test)\n",
    "print_rmse(pred, df_test.Rating)"
   ]
  }
 ],
 "metadata": {
  "kernelspec": {
   "display_name": "Python (OpenBLAS)",
   "language": "python",
   "name": "py3"
  },
  "language_info": {
   "codemirror_mode": {
    "name": "ipython",
    "version": 3
   },
   "file_extension": ".py",
   "mimetype": "text/x-python",
   "name": "python",
   "nbconvert_exporter": "python",
   "pygments_lexer": "ipython3",
   "version": "3.7.9"
  }
 },
 "nbformat": 4,
 "nbformat_minor": 4
}
