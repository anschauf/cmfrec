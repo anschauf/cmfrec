{
 "cells": [
  {
   "cell_type": "code",
   "execution_count": 1,
   "metadata": {},
   "outputs": [],
   "source": [
    "import numpy as np, pandas as pd\n",
    "\n",
    "df_full = pd.read_csv(\"ratings.dat\", delimiter=\"::\", engine=\"python\", header=None)\n",
    "df_train = pd.read_csv(\"train.csv\")\n",
    "df_test = pd.read_csv(\"test.csv\")\n",
    "\n",
    "df_full.columns = [\"UserId\", \"ItemId\", \"Rating\", \"Timestamp\"]\n",
    "df_full = df_full.drop(\"Timestamp\", axis=1)\n",
    "df_full[\"UserId\"], _ = pd.factorize(df_full[\"UserId\"])\n",
    "df_full[\"ItemId\"], _ = pd.factorize(df_full[\"ItemId\"])\n",
    "df_train[\"UserId\"], users_train = pd.factorize(df_train[\"UserId\"])\n",
    "df_train[\"ItemId\"], items_train = pd.factorize(df_train[\"ItemId\"])\n",
    "df_test[\"UserId\"] = pd.Categorical(df_test[\"UserId\"], users_train).codes\n",
    "df_test[\"ItemId\"] = pd.Categorical(df_test[\"ItemId\"], items_train).codes"
   ]
  },
  {
   "cell_type": "code",
   "execution_count": 2,
   "metadata": {},
   "outputs": [],
   "source": [
    "import os\n",
    "from pyreclab import SVD\n",
    "\n",
    "df_full.to_csv(\"df_full_pyreclab.tsv\", sep=\"\\t\", index=False)"
   ]
  },
  {
   "cell_type": "code",
   "execution_count": 3,
   "metadata": {},
   "outputs": [
    {
     "name": "stdout",
     "output_type": "stream",
     "text": [
      "CPU times: user 1min 30s, sys: 430 ms, total: 1min 30s\n",
      "Wall time: 1min 30s\n"
     ]
    }
   ],
   "source": [
    "%%time\n",
    "model = SVD(factors = 50,\n",
    "            dataset = \"df_full_pyreclab.tsv\",\n",
    "            dlmchar = b'\\t',\n",
    "            header = True,\n",
    "            usercol = 0,\n",
    "            itemcol = 1,\n",
    "            ratingcol = 2)\n",
    "model.train(maxiter = 15, lamb = 0.05, progress = False)"
   ]
  },
  {
   "cell_type": "code",
   "execution_count": 4,
   "metadata": {},
   "outputs": [],
   "source": [
    "os.remove(\"df_full_pyreclab.tsv\")"
   ]
  },
  {
   "cell_type": "code",
   "execution_count": 5,
   "metadata": {},
   "outputs": [],
   "source": [
    "df_train.to_csv(\"df_train_pyreclab.tsv\", sep=\"\\t\", index=False)\n",
    "model = SVD(factors = 50,\n",
    "            dataset = \"df_train_pyreclab.tsv\",\n",
    "            dlmchar = b'\\t',\n",
    "            header = True,\n",
    "            usercol = 0,\n",
    "            itemcol = 1,\n",
    "            ratingcol = 2)\n",
    "model.train(maxiter = 15, lamb = 0.05, progress = False)\n",
    "os.remove(\"df_train_pyreclab.tsv\")"
   ]
  },
  {
   "cell_type": "code",
   "execution_count": 6,
   "metadata": {},
   "outputs": [
    {
     "name": "stdout",
     "output_type": "stream",
     "text": [
      "RMSE: 0.812566\n"
     ]
    }
   ],
   "source": [
    "def predict_from_model(model, df):\n",
    "    pred = np.empty(df.shape[0])\n",
    "    uid = df.UserId.astype(str)\n",
    "    iid = df.ItemId.astype(str)\n",
    "    for ix in range(df.shape[0]):\n",
    "        pred[ix] = model.predict(uid.iloc[ix], iid.iloc[ix])\n",
    "    return pred\n",
    "\n",
    "def print_rmse(pred, real):\n",
    "    errors = pred - real\n",
    "    rmse = np.sqrt(np.mean(np.array(errors) ** 2))\n",
    "    print(\"RMSE: %f\" % rmse)\n",
    "    \n",
    "pred = predict_from_model(model, df_test)\n",
    "print_rmse(pred, df_test.Rating)"
   ]
  }
 ],
 "metadata": {
  "kernelspec": {
   "display_name": "Python (OpenBLAS)",
   "language": "python",
   "name": "py3"
  },
  "language_info": {
   "codemirror_mode": {
    "name": "ipython",
    "version": 3
   },
   "file_extension": ".py",
   "mimetype": "text/x-python",
   "name": "python",
   "nbconvert_exporter": "python",
   "pygments_lexer": "ipython3",
   "version": "3.7.9"
  }
 },
 "nbformat": 4,
 "nbformat_minor": 4
}
