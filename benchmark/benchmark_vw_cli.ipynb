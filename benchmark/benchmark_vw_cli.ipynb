{
 "cells": [
  {
   "cell_type": "code",
   "execution_count": 1,
   "metadata": {},
   "outputs": [
    {
     "name": "stdout",
     "output_type": "stream",
     "text": [
      "(10000054, 3)\n",
      "(8000043, 3)\n",
      "(1999975, 3)\n"
     ]
    }
   ],
   "source": [
    "import numpy as np, pandas as pd\n",
    "\n",
    "df_full = pd.read_csv(\"ratings.dat\", delimiter=\"::\", engine=\"python\", header=None)\n",
    "df_train = pd.read_csv(\"train.csv\")\n",
    "df_test = pd.read_csv(\"test.csv\")\n",
    "\n",
    "df_full.columns = [\"UserId\", \"ItemId\", \"Rating\", \"Timestamp\"]\n",
    "df_full = df_full.drop(\"Timestamp\", axis=1)\n",
    "df_full[\"UserId\"], _ = pd.factorize(df_full[\"UserId\"])\n",
    "df_full[\"ItemId\"], _ = pd.factorize(df_full[\"ItemId\"])\n",
    "df_train[\"UserId\"], users_train = pd.factorize(df_train[\"UserId\"])\n",
    "df_train[\"ItemId\"], items_train = pd.factorize(df_train[\"ItemId\"])\n",
    "df_test[\"UserId\"] = pd.Categorical(df_test[\"UserId\"], users_train).codes\n",
    "df_test[\"ItemId\"] = pd.Categorical(df_test[\"ItemId\"], items_train).codes\n",
    "\n",
    "print(df_full.shape)\n",
    "print(df_train.shape)\n",
    "print(df_test.shape)"
   ]
  },
  {
   "cell_type": "code",
   "execution_count": 2,
   "metadata": {},
   "outputs": [],
   "source": [
    "### Now converting to Vowpal Wabbit's format\n",
    "def save_in_wb_format(df, fname, is_test=False):\n",
    "    df = df.assign(\n",
    "        UserId = lambda x: \"u \" + x.UserId.astype(str),\n",
    "        ItemId = lambda x: \"i \" + x.ItemId.astype(str),\n",
    "        Rating = lambda x: x.Rating.astype(int).astype(str) + \" \"\n",
    "    )\n",
    "    df = df[[\"Rating\", \"UserId\", \"ItemId\"]]\n",
    "    if is_test:\n",
    "        df = df.drop(\"Rating\", axis=1)\n",
    "    df.to_csv(fname, index=False, sep=\"|\", header=None)\n",
    "save_in_wb_format(df_full, \"df_full_vw.txt\")\n",
    "save_in_wb_format(df_train, \"df_train_vw.txt\")\n",
    "save_in_wb_format(df_test, \"df_test_vw.txt\", is_test=True)"
   ]
  },
  {
   "cell_type": "code",
   "execution_count": 3,
   "metadata": {},
   "outputs": [],
   "source": [
    "### Will use the Command Line Interface for VW\n",
    "import os"
   ]
  },
  {
   "cell_type": "code",
   "execution_count": 4,
   "metadata": {},
   "outputs": [
    {
     "name": "stderr",
     "output_type": "stream",
     "text": [
      "creating quadratic features for pairs: ui \n",
      "using l2 regularization = 0.05\n",
      "Num weight bits = 18\n",
      "learning rate = 0.1\n",
      "initial_t = 1\n",
      "power_t = 0.5\n",
      "decay_learning_rate = 1\n",
      "creating cache_file = temp.cache\n",
      "Reading datafile = df_full_vw.txt\n",
      "num sources = 1\n",
      "Enabled reductions: rank, scorer\n",
      "average  since         example        example  current  current  current\n",
      "loss     last          counter         weight    label  predict features\n",
      "22.211706 22.211706            1            1.0   5.0000   0.2871      103\n",
      "20.379812 18.547918            2            2.0   5.0000   0.6933      103\n",
      "17.292235 14.204659            4            4.0   5.0000   1.3913      103\n",
      "13.700988 10.109741            8            8.0   5.0000   2.0814      103\n",
      "9.731537 5.762087           16           16.0   5.0000   2.9223      103\n",
      "6.710877 3.690217           32           32.0   3.0000   2.0444      103\n",
      "4.319266 1.927655           64           64.0   4.0000   2.4860      103\n",
      "3.441697 2.564129          128          128.0   3.0000   2.7786      103\n",
      "2.624417 1.807136          256          256.0   5.0000   3.1561      103\n",
      "1.780510 0.936604          512          512.0   4.0000   3.1860      103\n",
      "1.218456 0.656402         1024         1024.0   4.0000   3.1223      103\n",
      "1.108206 0.997957         2048         2048.0   3.0000   3.3000      103\n",
      "1.122330 1.136453         4096         4096.0   3.0000   3.2707      103\n",
      "1.117594 1.112858         8192         8192.0   3.0000   3.6081      103\n",
      "1.094680 1.071767        16384        16384.0   3.0000   3.3597      103\n",
      "1.102648 1.110615        32768        32768.0   5.0000   3.5714      103\n",
      "1.129282 1.155915        65536        65536.0   5.0000   3.3093      103\n",
      "1.135249 1.141216       131072       131072.0   3.0000   3.3605      103\n",
      "1.150776 1.166303       262144       262144.0   5.0000   3.3298      103\n",
      "1.153764 1.156752       524288       524288.0   4.0000   3.2490      103\n",
      "1.147500 1.141235      1048576      1048576.0   3.0000   3.3572      103\n",
      "1.161825 1.176150      2097152      2097152.0   4.0000   3.3594      103\n",
      "1.145531 1.129238      4194304      4194304.0   4.0000   3.5712      103\n",
      "1.134198 1.122864      8388608      8388608.0   4.0000   3.2016      103\n",
      "1.116695 1.099193     16777216     16777216.0   3.0000   3.6944      103\n",
      "1.097092 1.077489     33554432     33554432.0   2.0000   3.0708      103\n",
      "1.076485 1.055877     67108864     67108864.0   4.0000   3.2259      103\n",
      "1.054670 1.032856    134217728    134217728.0   2.0000   2.8432      103\n",
      "\n",
      "finished run\n",
      "number of examples per pass = 10000054\n",
      "passes used = 15\n",
      "weighted example sum = 150000810.000000\n",
      "weighted label sum = 511504410.000000\n",
      "average loss = 1.051201\n",
      "best constant = 3.410011\n",
      "total feature number = 15450083430\n"
     ]
    },
    {
     "name": "stdout",
     "output_type": "stream",
     "text": [
      "CPU times: user 16.3 ms, sys: 8.76 ms, total: 25 ms\n",
      "Wall time: 4min 53s\n"
     ]
    }
   ],
   "source": [
    "%%time\n",
    "%%bash\n",
    "./vw df_full_vw.txt -q ui --rank 50 --l2 0.05 --passes 15 --holdout_off \\\n",
    "--learning_rate 0.1 --random_seed 1 --cache_file temp.cache"
   ]
  },
  {
   "cell_type": "code",
   "execution_count": 5,
   "metadata": {},
   "outputs": [],
   "source": [
    "os.remove(\"temp.cache\")"
   ]
  },
  {
   "cell_type": "code",
   "execution_count": 6,
   "metadata": {},
   "outputs": [
    {
     "name": "stderr",
     "output_type": "stream",
     "text": [
      "creating quadratic features for pairs: ui \n",
      "using l2 regularization = 0.05\n",
      "final_regressor = vw_model.reg\n",
      "Num weight bits = 18\n",
      "learning rate = 0.1\n",
      "initial_t = 1\n",
      "power_t = 0.5\n",
      "decay_learning_rate = 1\n",
      "creating cache_file = temp.cache\n",
      "Reading datafile = df_train_vw.txt\n",
      "num sources = 1\n",
      "Enabled reductions: rank, scorer\n",
      "average  since         example        example  current  current  current\n",
      "loss     last          counter         weight    label  predict features\n",
      "13.785847 13.785847            1            1.0   4.0000   0.2871      103\n",
      "13.604061 13.422276            2            2.0   4.0000   0.3364      103\n",
      "7.817205 2.030349            4            4.0   2.0000   0.5830      103\n",
      "8.083151 8.349096            8            8.0   2.0000   0.9170      103\n",
      "7.294627 6.506103           16           16.0   5.0000   1.1541      103\n",
      "6.323093 5.351558           32           32.0   4.0000   1.6615      103\n",
      "4.768966 3.214839           64           64.0   3.0000   2.0815      103\n",
      "3.372009 1.975051          128          128.0   3.0000   2.5836      103\n",
      "2.371735 1.371461          256          256.0   5.0000   2.8384      103\n",
      "1.825403 1.279071          512          512.0   4.0000   3.1762      103\n",
      "1.473290 1.121177         1024         1024.0   3.0000   3.2595      103\n",
      "1.350620 1.227950         2048         2048.0   4.0000   3.2810      103\n",
      "1.292393 1.234167         4096         4096.0   4.0000   3.3182      103\n",
      "1.232429 1.172464         8192         8192.0   4.0000   3.3207      103\n",
      "1.209389 1.186349        16384        16384.0   2.0000   3.3048      103\n",
      "1.202260 1.195132        32768        32768.0   3.0000   3.3754      103\n",
      "1.193934 1.185608        65536        65536.0   4.0000   3.2990      103\n",
      "1.191337 1.188740       131072       131072.0   3.0000   3.3054      103\n",
      "1.190967 1.190598       262144       262144.0   5.0000   3.3675      103\n",
      "1.182525 1.174083       524288       524288.0   5.0000   3.4587      103\n",
      "1.173841 1.165157      1048576      1048576.0   3.0000   3.3532      103\n",
      "1.162754 1.151668      2097152      2097152.0   4.0000   3.5771      103\n",
      "1.149653 1.136552      4194304      4194304.0   4.0000   3.4049      103\n",
      "1.134756 1.119859      8388608      8388608.0   3.0000   3.1565      103\n",
      "1.116905 1.099055     16777216     16777216.0   4.0000   3.2647      103\n",
      "1.097356 1.077808     33554432     33554432.0   3.0000   3.3785      103\n",
      "1.076396 1.055435     67108864     67108864.0   3.0000   3.1267      103\n",
      "\n",
      "finished run\n",
      "number of examples per pass = 8000043\n",
      "passes used = 15\n",
      "weighted example sum = 120000645.000000\n",
      "weighted label sum = 409201665.000000\n",
      "average loss = 1.058154\n",
      "best constant = 3.409996\n",
      "total feature number = 12360066435\n"
     ]
    }
   ],
   "source": [
    "%%bash\n",
    "./vw df_train_vw.txt -q ui --rank 50 --l2 0.05 --passes 15 --holdout_off \\\n",
    "--learning_rate 0.1 --random_seed 1 -f vw_model.reg --cache_file temp.cache"
   ]
  },
  {
   "cell_type": "code",
   "execution_count": 7,
   "metadata": {},
   "outputs": [
    {
     "name": "stderr",
     "output_type": "stream",
     "text": [
      "IOPub data rate exceeded.\n",
      "The notebook server will temporarily stop sending output\n",
      "to the client in order to avoid crashing it.\n",
      "To change this limit, set the config variable\n",
      "`--NotebookApp.iopub_data_rate_limit`.\n",
      "\n",
      "Current values:\n",
      "NotebookApp.iopub_data_rate_limit=1000000.0 (bytes/sec)\n",
      "NotebookApp.rate_limit_window=3.0 (secs)\n",
      "\n",
      "creating quadratic features for pairs: ui \n",
      "only testing\n",
      "predictions = vw_pred.txt\n",
      "Num weight bits = 18\n",
      "learning rate = 10\n",
      "initial_t = 1\n",
      "power_t = 0.5\n",
      "using no cache\n",
      "Reading datafile = df_test_vw.txt\n",
      "num sources = 1\n",
      "Enabled reductions: rank, scorer\n",
      "average  since         example        example  current  current  current\n",
      "loss     last          counter         weight    label  predict features\n",
      "9.437434 9.437434            1            1.0   0.0000   3.0720       52\n",
      "9.323956 9.210479            2            2.0   0.0000   3.0349       52\n",
      "10.249872 11.175787            4            4.0   0.0000   3.4561       52\n",
      "9.779625 9.309378            8            8.0   0.0000   3.0901       52\n",
      "9.888102 9.996579           16           16.0   0.0000   3.1639       52\n",
      "9.984074 10.080046           32           32.0   0.0000   3.3378       52\n",
      "10.008738 10.033401           64           64.0   0.0000   3.5572       52\n",
      "10.046063 10.083389          128          128.0   0.0000   2.9205       52\n",
      "9.963827 9.881590          256          256.0   0.0000   2.9944       52\n",
      "10.024692 10.085557          512          512.0   0.0000   3.1410       52\n",
      "9.970802 9.916912         1024         1024.0   0.0000   3.0872       52\n",
      "10.006141 10.041479         2048         2048.0   0.0000   3.4468       52\n",
      "9.994522 9.982903         4096         4096.0   0.0000   3.9518       52\n",
      "10.001650 10.008777         8192         8192.0   0.0000   3.3375       52\n",
      "10.020309 10.038967        16384        16384.0   0.0000   3.6319       52\n",
      "10.024354 10.028399        32768        32768.0   0.0000   3.7422       52\n",
      "10.018722 10.013091        65536        65536.0   0.0000   2.9893       52\n",
      "10.013968 10.009214       131072       131072.0   0.0000   2.9179       52\n",
      "10.006627 9.999285       262144       262144.0   0.0000   3.3141       52\n",
      "10.006200 10.005772       524288       524288.0   0.0000   2.8847       52\n",
      "10.010444 10.014688      1048576      1048576.0   0.0000   2.9551       52\n",
      "\n",
      "finished run\n",
      "number of examples = 1999975\n",
      "weighted example sum = 1999975.000000\n",
      "weighted label sum = 0.000000\n",
      "average loss = 10.008925\n",
      "total feature number = 103998700\n"
     ]
    }
   ],
   "source": [
    "%%bash\n",
    "./vw df_test_vw.txt -i vw_model.reg -t --predictions vw_pred.txt"
   ]
  },
  {
   "cell_type": "code",
   "execution_count": 8,
   "metadata": {},
   "outputs": [
    {
     "name": "stdout",
     "output_type": "stream",
     "text": [
      "RMSE is: 1.054546\n"
     ]
    }
   ],
   "source": [
    "pred = pd.read_csv(\"vw_pred.txt\", header=None, sep=\" \")\n",
    "pred = pred[0]\n",
    "err = pred - df_test.Rating\n",
    "rmse = np.sqrt(np.mean( (err**2).to_numpy() ))\n",
    "print(\"RMSE is: %f\" % rmse)"
   ]
  },
  {
   "cell_type": "code",
   "execution_count": 9,
   "metadata": {},
   "outputs": [],
   "source": [
    "os.remove(\"vw_pred.txt\")\n",
    "os.remove(\"temp.cache\")\n",
    "os.remove(\"vw_model.reg\")\n",
    "os.remove(\"df_full_vw.txt\")\n",
    "os.remove(\"df_train_vw.txt\")\n",
    "os.remove(\"df_test_vw.txt\")"
   ]
  }
 ],
 "metadata": {
  "kernelspec": {
   "display_name": "Python (OpenBLAS)",
   "language": "python",
   "name": "py3"
  },
  "language_info": {
   "codemirror_mode": {
    "name": "ipython",
    "version": 3
   },
   "file_extension": ".py",
   "mimetype": "text/x-python",
   "name": "python",
   "nbconvert_exporter": "python",
   "pygments_lexer": "ipython3",
   "version": "3.7.9"
  }
 },
 "nbformat": 4,
 "nbformat_minor": 4
}
